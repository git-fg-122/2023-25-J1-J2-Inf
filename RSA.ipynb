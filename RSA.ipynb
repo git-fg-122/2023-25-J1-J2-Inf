{
 "cells": [
  {
   "cell_type": "markdown",
   "id": "8def68e0-8a08-4061-b0cd-c948810a9292",
   "metadata": {},
   "source": [
    "RSA-Kryptosystem\n",
    "Quelle: Weitz (2018) Konkrete Mathematik, S. 97"
   ]
  },
  {
   "cell_type": "code",
   "execution_count": 2,
   "id": "1a707bd9-f4b8-491b-972b-f2f9a2dfa2e7",
   "metadata": {},
   "outputs": [
    {
     "data": {
      "text/plain": [
       "(229, 251, 57479)"
      ]
     },
     "execution_count": 2,
     "metadata": {},
     "output_type": "execute_result"
    }
   ],
   "source": [
    "from sympy import prime\n",
    "\n",
    "p, q = prime(50), prime(54)\n",
    "n = p * q\n",
    "p, q, n"
   ]
  },
  {
   "cell_type": "code",
   "execution_count": 8,
   "id": "d91f0a3b-f485-4893-9aaa-088e27e0f577",
   "metadata": {},
   "outputs": [
    {
     "name": "stdout",
     "output_type": "stream",
     "text": [
      "##################################################"
     ]
    },
    {
     "data": {
      "text/plain": [
       "93"
      ]
     },
     "execution_count": 8,
     "metadata": {},
     "output_type": "execute_result"
    }
   ],
   "source": [
    "c = 0\n",
    "for i in range(99000,100000):\n",
    "    if prime(i+1) - prime(i) == 2: # Test auf Primzahlzwilling\n",
    "        c += 1 # Counter für die Anzahl gefundener Primzahlzwillinge\n",
    "    if i%20 == 0: # Progress bar\n",
    "        print(\"#\", end = \"\") \n",
    "c"
   ]
  }
 ],
 "metadata": {
  "kernelspec": {
   "display_name": "Python 3 (ipykernel)",
   "language": "python",
   "name": "python3"
  },
  "language_info": {
   "codemirror_mode": {
    "name": "ipython",
    "version": 3
   },
   "file_extension": ".py",
   "mimetype": "text/x-python",
   "name": "python",
   "nbconvert_exporter": "python",
   "pygments_lexer": "ipython3",
   "version": "3.11.6"
  }
 },
 "nbformat": 4,
 "nbformat_minor": 5
}
